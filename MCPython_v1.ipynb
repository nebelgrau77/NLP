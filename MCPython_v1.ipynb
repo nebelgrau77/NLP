{
 "cells": [
  {
   "cell_type": "code",
   "execution_count": null,
   "metadata": {},
   "outputs": [],
   "source": [
    "import nltk"
   ]
  },
  {
   "cell_type": "code",
   "execution_count": 2,
   "metadata": {},
   "outputs": [],
   "source": [
    "entries = nltk.corpus.cmudict.entries()"
   ]
  },
  {
   "cell_type": "code",
   "execution_count": 3,
   "metadata": {},
   "outputs": [],
   "source": [
    "from random import choice"
   ]
  },
  {
   "cell_type": "code",
   "execution_count": 14,
   "metadata": {},
   "outputs": [],
   "source": [
    "def rhymer(syl_num):\n",
    "    syllables1 = []\n",
    "    words1 = []\n",
    "    while len(syllables1) < syl_num:\n",
    "        new_entry1 = choice(entries)\n",
    "        if len(syllables1 + new_entry1[1]) <= syl_num:\n",
    "            words1.append(new_entry1[0])\n",
    "            syllables1 = syllables1 + new_entry1[1]\n",
    "    print(' '.join(words1))\n",
    "\n",
    "    counter = 0\n",
    "    syllables2 = []\n",
    "    words2 = []\n",
    "    while counter < 10:\n",
    "        \n",
    "        while len(syllables2) < syl_num:\n",
    "            new_entry2 = choice(entries)\n",
    "            counter = counter+1\n",
    "            if len(syllables2 + new_entry2[1]) <= syl_num and (syllables2 + new_entry2[1])[-1:] == syllables1[-1:]:\n",
    "                words2.append(new_entry2[0])\n",
    "                syllables2 = syllables2 + new_entry2[1]\n",
    "    if len(words2) == 0:\n",
    "        print(\"can't do it\")\n",
    "    else:\n",
    "        print(' '.join(words2))\n",
    "    "
   ]
  },
  {
   "cell_type": "code",
   "execution_count": null,
   "metadata": {},
   "outputs": [
    {
     "name": "stdout",
     "output_type": "stream",
     "text": [
      "pitted impurity nee\n"
     ]
    }
   ],
   "source": [
    "rhymer(16)"
   ]
  }
 ],
 "metadata": {
  "kernelspec": {
   "display_name": "Python 3",
   "language": "python",
   "name": "python3"
  },
  "language_info": {
   "codemirror_mode": {
    "name": "ipython",
    "version": 3
   },
   "file_extension": ".py",
   "mimetype": "text/x-python",
   "name": "python",
   "nbconvert_exporter": "python",
   "pygments_lexer": "ipython3",
   "version": "3.6.6"
  }
 },
 "nbformat": 4,
 "nbformat_minor": 2
}
